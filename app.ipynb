{
 "cells": [
  {
   "cell_type": "markdown",
   "id": "b26203a6",
   "metadata": {},
   "source": [
    "# Convolutional Neural Networks\n",
    "\n",
    "## Project: Write an Algorithm for Landmark Classification\n",
    "\n",
    "### A simple app\n",
    "\n",
    "In this notebook we build a very simple app that uses our exported model.\n",
    "\n",
    "> <img src=\"static_images/icons/noun-info-2558213.png\" alt=\"?\" style=\"width:25px\"/> Note how we are not importing anything from our source code (we do not use any module from the ``src`` directory). This is because the exported model, differently from the model weights, is a standalone serialization of our model and therefore it does not need anything else. You can ship that file to anybody, and as long as they can import ``torch``, they will be able to use your model. This is very important for releasing pytorch models to production.\n",
    "\n",
    "### Test your app\n",
    "Go to a search engine for images (like Google Images) and search for images of some of the landmarks, like the Eiffel Tower, the Golden Gate Bridge, Machu Picchu and so on. Save a few examples locally, then upload them to your app to see how your model behaves!\n",
    "\n",
    "The app will show the top 5 classes that the model think are most relevant for the picture you have uploaded"
   ]
  },
  {
   "cell_type": "code",
   "execution_count": 1,
   "id": "58824526",
   "metadata": {},
   "outputs": [
    {
     "data": {
      "application/vnd.jupyter.widget-view+json": {
       "model_id": "b2e07396c07340658426e57535bb515a",
       "version_major": 2,
       "version_minor": 0
      },
      "text/plain": [
       "VBox(children=(Label(value='Please upload a picture of a landmark'), FileUpload(value={}, description='Upload'…"
      ]
     },
     "metadata": {},
     "output_type": "display_data"
    },
    {
     "name": "stdout",
     "output_type": "stream",
     "text": [
      "[ 1  0 11  4 32 26 18 40 36  7 28 31 14 10 16 35  2 30 45 41 33 48 23 27\n",
      " 21 15  9  8 34 39 47  5  3 46 12 20 29 42 38 17 24 44 43  6 19 13 25 37\n",
      " 49 22] 50\n"
     ]
    }
   ],
   "source": [
    "from ipywidgets import VBox, Button, FileUpload, Output, Label\n",
    "from PIL import Image\n",
    "from IPython.display import display\n",
    "import io\n",
    "import numpy as np\n",
    "import torch\n",
    "import torchvision\n",
    "import torchvision.transforms as T\n",
    "\n",
    "\n",
    "\n",
    "# Decide which model you want to use among the ones exported\n",
    "learn_inf = torch.jit.load(\"checkpoints/transfer_exported.pt\") \n",
    "\n",
    "class_to_name = {'0': 'Haleakala_National_Park', '1': 'Mount_Rainier_National_Park',\n",
    "                 '2': 'Ljubljana_Castle', '3': 'Dead_Sea', '4': 'Wroclaws_Dwarves', \n",
    "                 '5': 'London_Olympic_Stadium', '6': 'Niagara_Falls', '7': 'Stonehenge', \n",
    "                 '8': 'Grand_Canyon', '9': 'GoledenGate Bridge', '10': 'Edinburgh_Castle', \n",
    "                 '11': 'Mount_Rushmore_National_Memorial', '12': 'Kantanagar_Temple', \n",
    "                 '13': 'Yellowstone_National_Park', '14': 'Terminal_Tower', \n",
    "                 '15': 'Central_Park', '16': 'Eiffel_Tower', '17': 'Changdeokgung', \n",
    "                 '18': 'Delicate_Arch', '19': 'Vienna_City_Hall', '20': 'Matterhorn', \n",
    "                 '21': 'Taj_Mahal', '22': 'Moscow_Raceway', '23': 'Externsteine', \n",
    "                 '24': 'Soreq_Cave', '25': 'Banff_National_Park', '26': 'Pont_du_Gard', \n",
    "                 '27': 'Seattle_Japanese_Garden', '28': 'Sydney_Harbour_Bridge', \n",
    "                 '29': 'Petronas_Towers', '30': 'Brooklyn_Bridge', '31': 'Washington_Monument',\n",
    "                 '32': 'Hanging_Temple', '33': 'Sydney_Opera_House', '34': 'Great_Barrier_Reef',\n",
    "                 '35': 'Monumento_a_la_Revolucion', '36': 'Badlands_National_Park', '37': 'Atomium', \n",
    "                 '38': 'Forth_Bridge', '39': 'Gateway_of_India', '40': 'Stockholm_City_Hall', \n",
    "                 '41': 'Machu_Picchu', '42': 'Death_Valley_National_Park', '43': 'Gullfoss_Falls', \n",
    "                 '44': 'Trevi_Fountain', '45': 'Temple_of_Heaven', '46': 'Great_Wall_of_China', \n",
    "                 '47': 'Prague_Astronomical_Clock', '48': 'Whitby_Abbey', '49': 'Temple_of_Olympian_Zeus'}\n",
    "\n",
    "def on_click_classify(change):\n",
    "\n",
    "    # Load image that has been uploaded\n",
    "    fn = io.BytesIO(btn_upload.data[-1])\n",
    "\n",
    "    img = Image.open(fn)\n",
    "    img.load()\n",
    "\n",
    "    # Let's clear the previous output (if any)\n",
    "    out_pl.clear_output()\n",
    "\n",
    "    # Display the image\n",
    "    with out_pl:\n",
    "\n",
    "        ratio = img.size[0] / img.size[1]\n",
    "        c = img.copy()\n",
    "        c.thumbnail([ratio * 200, 200])\n",
    "        display(c)\n",
    "\n",
    "    # Transform to tensor\n",
    "    timg = T.ToTensor()(img).unsqueeze_(0)\n",
    "\n",
    "    # Calling the model\n",
    "    softmax = learn_inf(timg).data.cpu().numpy().squeeze()\n",
    "    \n",
    "    # Get the indexes of the classes ordered by softmax\n",
    "    # (larger first)\n",
    "    idxs = np.argsort(softmax)[::-1]\n",
    "    print(idxs, len(idxs))\n",
    "    # Loop over the classes with the largest softmax\n",
    "    for i in range(10):\n",
    "        # Get softmax value\n",
    "        p = softmax[idxs[i]]\n",
    "        # Get class name\n",
    "        landmark_name = class_to_name[str(idxs[i])]\n",
    "        labels[i].value = f\"{landmark_name} (prob: {p:.4f})\"\n",
    "        \n",
    "\n",
    "# Putting back btn_upload to a widget for next cell\n",
    "btn_upload = FileUpload()\n",
    "\n",
    "btn_run = Button(description=\"Classify\")\n",
    "btn_run.on_click(on_click_classify)\n",
    "\n",
    "labels = []\n",
    "for _ in range(10):\n",
    "    labels.append(Label())\n",
    "\n",
    "out_pl = Output()\n",
    "out_pl.clear_output()\n",
    "\n",
    "wgs = [Label(\"Please upload a picture of a landmark\"), btn_upload, btn_run, out_pl]\n",
    "wgs.extend(labels)\n",
    "\n",
    "VBox(wgs)\n"
   ]
  },
  {
   "cell_type": "markdown",
   "id": "6c161afa",
   "metadata": {},
   "source": [
    "## (optional) Standalone app or web app\n",
    "\n",
    "You can run this notebook as a standalone app on your computer by following these steps:\n",
    "\n",
    "1. Download this notebook in a directory on your machine\n",
    "2. Download the model export (for example, ``checkpoints/transfer_exported.pt``) in a subdirectory called ``checkpoints`` within the directory where you save the app.ipynb notebook\n",
    "3. Install voila if you don't have it already (``pip install voila``)\n",
    "4. Run your app: ``voila app.ipynb --show_tracebacks=True``\n",
    "5. Customize your notebook to make your app prettier and rerun voila\n",
    "\n",
    "You can also deploy this app as a website using Binder: https://voila.readthedocs.io/en/stable/deploy.html#deployment-on-binder"
   ]
  },
  {
   "cell_type": "markdown",
   "id": "227cce07",
   "metadata": {},
   "source": [
    "# Create your submission archive\n",
    "\n",
    "Now that you are done with your project, please run the following cell. It will generate a file containing all the code you have written, as well as the notebooks. Please submit that file to complete your project"
   ]
  },
  {
   "cell_type": "code",
   "execution_count": null,
   "id": "f3489608",
   "metadata": {},
   "outputs": [
    {
     "name": "stdout",
     "output_type": "stream",
     "text": [
      "executing: jupyter nbconvert --to html app.ipynb\n",
      "[NbConvertApp] Converting notebook app.ipynb to html\n",
      "[NbConvertApp] Writing 294139 bytes to app.html\n",
      "executing: jupyter nbconvert --to html cnn_from_scratch.ipynb\n",
      "[NbConvertApp] Converting notebook cnn_from_scratch.ipynb to html\n",
      "[NbConvertApp] Writing 1032949 bytes to cnn_from_scratch.html\n",
      "executing: jupyter nbconvert --to html transfer_learning.ipynb\n",
      "[NbConvertApp] Converting notebook transfer_learning.ipynb to html\n",
      "[NbConvertApp] Writing 368896 bytes to transfer_learning.html\n",
      "Adding files to submission_2023-02-07T16h31m.tar.gz\n",
      "src/model.py\n",
      "src/data.py\n",
      "src/optimization.py\n",
      "src/helpers.py\n",
      "src/__init__.py\n",
      "src/train.py\n",
      "src/create_submit_pkg.py\n",
      "src/transfer.py\n",
      "src/predictor.py\n",
      "app.ipynb\n",
      "cnn_from_scratch.ipynb\n",
      "transfer_learning.ipynb\n",
      "cnn_from_scratch.html\n",
      "app.html\n",
      "transfer_learning.html\n"
     ]
    }
   ],
   "source": [
    "!python src/create_submit_pkg.py"
   ]
  },
  {
   "cell_type": "code",
   "execution_count": null,
   "id": "2a64d468",
   "metadata": {},
   "outputs": [],
   "source": []
  }
 ],
 "metadata": {
  "kernelspec": {
   "display_name": "Python 3 (ipykernel)",
   "language": "python",
   "name": "python3"
  },
  "language_info": {
   "codemirror_mode": {
    "name": "ipython",
    "version": 3
   },
   "file_extension": ".py",
   "mimetype": "text/x-python",
   "name": "python",
   "nbconvert_exporter": "python",
   "pygments_lexer": "ipython3",
   "version": "3.10.9"
  },
  "widgets": {
   "application/vnd.jupyter.widget-state+json": {
    "state": {},
    "version_major": 2,
    "version_minor": 0
   }
  }
 },
 "nbformat": 4,
 "nbformat_minor": 5
}
